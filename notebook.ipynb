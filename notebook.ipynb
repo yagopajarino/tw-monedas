{
 "cells": [
  {
   "cell_type": "code",
   "execution_count": 13,
   "id": "ed2184b8",
   "metadata": {},
   "outputs": [],
   "source": [
    "import numpy as np"
   ]
  },
  {
   "cell_type": "code",
   "execution_count": 14,
   "id": "1e6634e1",
   "metadata": {},
   "outputs": [],
   "source": [
    "def lanzamiento():\n",
    "    return np.random.choice([0,1])"
   ]
  },
  {
   "cell_type": "markdown",
   "id": "ed02dfb4",
   "metadata": {},
   "source": [
    "## Caso 1: lanzamientos promedios necesarios\n",
    "\n",
    "Simulación del problema original. Tres amigas lanzan monedas, cuál necesita en promedio, la menor cantidad de lanzamientos para encontrar su secuencia de lanzamientos."
   ]
  },
  {
   "cell_type": "code",
   "execution_count": 15,
   "id": "d80df51e",
   "metadata": {},
   "outputs": [],
   "source": [
    "def juego_lanzamientos_necesarios():\n",
    "    resultados = [0, 0, 0]\n",
    "    lanzamientos = [[], [], []]\n",
    "    combinaciones = [[1, 0, 0], [0, 1, 0], [0, 0, 1]]\n",
    "    while resultados.count(0) > 0:\n",
    "        for i in range(3):\n",
    "            if resultados[i] == 0:\n",
    "                lanzamientos[i].append(lanzamiento())\n",
    "                if len(lanzamientos[i]) >= 3:\n",
    "                    if lanzamientos[i][-3:] == combinaciones[i]:\n",
    "                        resultados[i] = len(lanzamientos[i])                    \n",
    "    return resultados"
   ]
  },
  {
   "cell_type": "code",
   "execution_count": 16,
   "id": "8b51a89d",
   "metadata": {},
   "outputs": [],
   "source": [
    "# Simulación de N juegos\n",
    "N = 10000\n",
    "res = []\n",
    "for x in range(N):\n",
    "    res.append(juego_lanzamientos_necesarios())"
   ]
  },
  {
   "cell_type": "code",
   "execution_count": 17,
   "id": "4fbe89cc",
   "metadata": {},
   "outputs": [
    {
     "name": "stdout",
     "output_type": "stream",
     "text": [
      "Lanzamientos necesarios (XOO): 7.9648\n",
      "Lanzamientos necesarios (OXO): 10.0727\n",
      "Lanzamientos necesarios (OOX): 8.0165\n"
     ]
    }
   ],
   "source": [
    "combs = [\"(XOO)\", \"(OXO)\", \"(OOX)\"]\n",
    "for x in range(3):\n",
    "    print(f\"Lanzamientos necesarios {combs[x]}: {np.mean([i[x] for i in res])}\")"
   ]
  },
  {
   "cell_type": "markdown",
   "id": "646f0071",
   "metadata": {},
   "source": [
    "## Caso 2: competencia distintas monedas\n",
    "\n",
    "Ahora supongamos que las tres amigas lanzan su moneda en simultáneo y gana la que obtiene su secuencia antes. ¿Cuál de las tres gana más juegos?"
   ]
  },
  {
   "cell_type": "code",
   "execution_count": 18,
   "id": "5e0bc8ab",
   "metadata": {},
   "outputs": [],
   "source": [
    "# Cada chica lanza su moneda, vemos cuál obtiene su secuencia antes.\n",
    "def juego_distintas_monedas():\n",
    "    chicas = [[],[],[]]\n",
    "    res = []\n",
    "    while len(res) == 0:\n",
    "        for i in range(3):\n",
    "            chicas[i].append(lanzamiento())\n",
    "        if len(chicas[0]) >= 3:\n",
    "            if chicas[0][-3:] == [1, 0, 0]:\n",
    "                res.append(0)\n",
    "            if chicas[1][-3:] == [0, 1, 0]:\n",
    "                res.append(1)\n",
    "            if chicas[2][-3:] == [0, 0, 1]:\n",
    "                res.append(2)\n",
    "    return res"
   ]
  },
  {
   "cell_type": "code",
   "execution_count": 19,
   "id": "a4d20332",
   "metadata": {},
   "outputs": [],
   "source": [
    "# Simulación de N juegos\n",
    "N = 10000\n",
    "res = []\n",
    "for x in range(N):\n",
    "    res += juego_distintas_monedas()"
   ]
  },
  {
   "cell_type": "code",
   "execution_count": 20,
   "id": "cb980ea4",
   "metadata": {},
   "outputs": [
    {
     "name": "stdout",
     "output_type": "stream",
     "text": [
      "Resultados si cada chica lanza su moneda: \n",
      "Chica 1 (XOO): 35.26963759320271 %\n",
      "Chica 2 (OXO): 30.34506675914687 %\n",
      "Chica 3 (OOX): 34.38529564765042 %\n"
     ]
    }
   ],
   "source": [
    "print(\"Resultados si cada chica lanza su moneda: \")\n",
    "print(f\"Chica 1 (XOO): {res.count(0) / len(res) * 100} %\")\n",
    "print(f\"Chica 2 (OXO): {res.count(1) / len(res) * 100} %\")\n",
    "print(f\"Chica 3 (OOX): {res.count(2) / len(res) * 100} %\")"
   ]
  },
  {
   "cell_type": "markdown",
   "id": "bd6dbd8e",
   "metadata": {},
   "source": [
    "**Como esperábamos, las amigas que necesitan menos lanzamientos para obtener su combinación (1 y 3), ganan (en promedio) la mayor cantidad de veces.**"
   ]
  },
  {
   "cell_type": "markdown",
   "id": "7bcb3b8a",
   "metadata": {},
   "source": [
    "## Caso 3: competencia misma moneda\n",
    "\n",
    "Ahora se lanza una única moneda y de nuevo gana la amiga que obtiene su combinación en la secuencia de lanzamientos. ¿Cuál de las tres gana más juegos?"
   ]
  },
  {
   "cell_type": "code",
   "execution_count": 21,
   "id": "6fe65fd8",
   "metadata": {},
   "outputs": [],
   "source": [
    "# Se lanza una moneda hasta encontrar la combinación de alguna de las chicas.\n",
    "def juego_misma_moneda():\n",
    "    lanzamientos = []\n",
    "    res = -1\n",
    "    while res == -1:\n",
    "        lanzamientos.append(lanzamiento())\n",
    "        if len(lanzamientos) >= 3:\n",
    "            if lanzamientos[-3:] == [1, 0, 0]:\n",
    "                res = 0\n",
    "            elif lanzamientos[-3:] == [0, 1, 0]:\n",
    "                res = 1\n",
    "            elif lanzamientos[-3:] == [0, 0, 1]:\n",
    "                res = 2\n",
    "    return res"
   ]
  },
  {
   "cell_type": "code",
   "execution_count": 22,
   "id": "3363c0f8",
   "metadata": {},
   "outputs": [],
   "source": [
    "# Simulación de N juegos\n",
    "N = 10000\n",
    "res = []\n",
    "for x in range(N):\n",
    "    res.append(juego_misma_moneda())"
   ]
  },
  {
   "cell_type": "code",
   "execution_count": 23,
   "id": "a45dd486",
   "metadata": {
    "scrolled": true
   },
   "outputs": [
    {
     "name": "stdout",
     "output_type": "stream",
     "text": [
      "Resultados si se lanza una única moneda: \n",
      "Chica 1 (XOO): 41.6 %\n",
      "Chica 2 (OXO): 33.89 %\n",
      "Chica 3 (OOX): 24.51 %\n"
     ]
    }
   ],
   "source": [
    "print(\"Resultados si se lanza una única moneda: \")\n",
    "print(f\"Chica 1 (XOO): {res.count(0) / len(res) * 100} %\")\n",
    "print(f\"Chica 2 (OXO): {res.count(1) / len(res) * 100} %\")\n",
    "print(f\"Chica 3 (OOX): {res.count(2) / len(res) * 100} %\")"
   ]
  }
 ],
 "metadata": {
  "kernelspec": {
   "display_name": "Python 3 (ipykernel)",
   "language": "python",
   "name": "python3"
  },
  "language_info": {
   "codemirror_mode": {
    "name": "ipython",
    "version": 3
   },
   "file_extension": ".py",
   "mimetype": "text/x-python",
   "name": "python",
   "nbconvert_exporter": "python",
   "pygments_lexer": "ipython3",
   "version": "3.9.6"
  }
 },
 "nbformat": 4,
 "nbformat_minor": 5
}
